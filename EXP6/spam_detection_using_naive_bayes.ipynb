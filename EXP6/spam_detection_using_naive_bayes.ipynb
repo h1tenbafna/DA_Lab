{
  "cells": [
    {
      "cell_type": "markdown",
      "metadata": {
        "id": "view-in-github"
      },
      "source": [
        "<a href=\"https://colab.research.google.com/github/h1tenbafna/DA_Lab/blob/main/spam_detection_using_naive_bayes.ipynb\" target=\"_parent\"><img src=\"https://colab.research.google.com/assets/colab-badge.svg\" alt=\"Open In Colab\"/></a>"
      ]
    },
    {
      "cell_type": "code",
      "execution_count": 1,
      "metadata": {
        "_cell_guid": "b1076dfc-b9ad-4769-8c92-a6c4dae69d19",
        "_uuid": "8f2839f25d086af736a60e9eeb907d3b93b6e0e5",
        "execution": {
          "iopub.execute_input": "2022-05-13T21:28:26.037573Z",
          "iopub.status.busy": "2022-05-13T21:28:26.036875Z",
          "iopub.status.idle": "2022-05-13T21:28:26.07557Z",
          "shell.execute_reply": "2022-05-13T21:28:26.074638Z",
          "shell.execute_reply.started": "2022-05-13T21:28:26.037458Z"
        },
        "id": "QBya9z-638D8",
        "trusted": true
      },
      "outputs": [],
      "source": [
        "\n",
        "import numpy as np # linear algebra\n",
        "import pandas as pd # data processing, CSV file I/O (e.g. pd.read_csv)\n"
      ]
    },
    {
      "cell_type": "markdown",
      "metadata": {
        "id": "xzw-L5HOAcsQ"
      },
      "source": [
        "Importing the necessary libraries for the experiment."
      ]
    },
    {
      "cell_type": "code",
      "execution_count": 2,
      "metadata": {
        "execution": {
          "iopub.execute_input": "2022-05-13T21:28:28.448955Z",
          "iopub.status.busy": "2022-05-13T21:28:28.448646Z",
          "iopub.status.idle": "2022-05-13T21:28:29.585369Z",
          "shell.execute_reply": "2022-05-13T21:28:29.584292Z",
          "shell.execute_reply.started": "2022-05-13T21:28:28.448923Z"
        },
        "id": "J6lLBOS338EH",
        "trusted": true
      },
      "outputs": [],
      "source": [
        "# first import library that we need \n",
        "import pandas as pd \n",
        "from sklearn.feature_extraction.text import CountVectorizer\n",
        "from sklearn.model_selection import train_test_split\n",
        "from sklearn.naive_bayes import MultinomialNB  # suitable for discreate feature and Gusian naive bayes for contious\n",
        "from sklearn.metrics import accuracy_score ,f1_score , precision_score , recall_score"
      ]
    },
    {
      "cell_type": "code",
      "execution_count": 3,
      "metadata": {
        "colab": {
          "base_uri": "https://localhost:8080/"
        },
        "id": "o8rbJQFd4QOc",
        "outputId": "8d071b3b-1b63-4fbe-c86c-c8f5b0054bb7"
      },
      "outputs": [
        {
          "output_type": "stream",
          "name": "stdout",
          "text": [
            "Mounted at /content/drive\n"
          ]
        }
      ],
      "source": [
        "from google.colab import drive\n",
        "drive.mount('/content/drive')"
      ]
    },
    {
      "cell_type": "code",
      "execution_count": 4,
      "metadata": {
        "colab": {
          "base_uri": "https://localhost:8080/"
        },
        "id": "DIGjmcVE4Wi3",
        "outputId": "531efcef-62a4-4ef9-cd11-28f2b3e03c33"
      },
      "outputs": [
        {
          "output_type": "stream",
          "name": "stdout",
          "text": [
            "/content/drive/MyDrive/Datasets\n"
          ]
        }
      ],
      "source": [
        "cd /content/drive/MyDrive/Datasets/"
      ]
    },
    {
      "cell_type": "code",
      "execution_count": 5,
      "metadata": {
        "execution": {
          "iopub.execute_input": "2022-05-13T21:28:29.586995Z",
          "iopub.status.busy": "2022-05-13T21:28:29.586773Z",
          "iopub.status.idle": "2022-05-13T21:28:29.644122Z",
          "shell.execute_reply": "2022-05-13T21:28:29.643267Z",
          "shell.execute_reply.started": "2022-05-13T21:28:29.586968Z"
        },
        "id": "nL8YEnRN38EI",
        "trusted": true
      },
      "outputs": [],
      "source": [
        "df = pd.read_csv(\"spam.csv\",encoding='ISO-8859-1')\n",
        "df = df.iloc[:,:2]\n",
        "df.rename(columns={'v1':'label', 'v2' : 'sms'},inplace=True)"
      ]
    },
    {
      "cell_type": "markdown",
      "metadata": {
        "id": "PA3khmkrAcsV"
      },
      "source": [
        "Reading the data from CSV file."
      ]
    },
    {
      "cell_type": "markdown",
      "metadata": {
        "id": "X9oafL0U38EJ"
      },
      "source": [
        "# Data Preprocessing"
      ]
    },
    {
      "cell_type": "code",
      "execution_count": 6,
      "metadata": {
        "colab": {
          "base_uri": "https://localhost:8080/",
          "height": 81
        },
        "execution": {
          "iopub.execute_input": "2022-05-13T21:28:29.699726Z",
          "iopub.status.busy": "2022-05-13T21:28:29.699437Z",
          "iopub.status.idle": "2022-05-13T21:28:29.726278Z",
          "shell.execute_reply": "2022-05-13T21:28:29.725274Z",
          "shell.execute_reply.started": "2022-05-13T21:28:29.699697Z"
        },
        "id": "_SlU1yxR38EK",
        "outputId": "7048a913-93ea-45f7-f07a-a85d746d3497",
        "trusted": true
      },
      "outputs": [
        {
          "output_type": "execute_result",
          "data": {
            "text/plain": [
              "   label                                                sms\n",
              "0      0  Go until jurong point, crazy.. Available only ..."
            ],
            "text/html": [
              "\n",
              "  <div id=\"df-1791da3e-a10a-4479-aaef-9ebfe7a2c765\">\n",
              "    <div class=\"colab-df-container\">\n",
              "      <div>\n",
              "<style scoped>\n",
              "    .dataframe tbody tr th:only-of-type {\n",
              "        vertical-align: middle;\n",
              "    }\n",
              "\n",
              "    .dataframe tbody tr th {\n",
              "        vertical-align: top;\n",
              "    }\n",
              "\n",
              "    .dataframe thead th {\n",
              "        text-align: right;\n",
              "    }\n",
              "</style>\n",
              "<table border=\"1\" class=\"dataframe\">\n",
              "  <thead>\n",
              "    <tr style=\"text-align: right;\">\n",
              "      <th></th>\n",
              "      <th>label</th>\n",
              "      <th>sms</th>\n",
              "    </tr>\n",
              "  </thead>\n",
              "  <tbody>\n",
              "    <tr>\n",
              "      <th>0</th>\n",
              "      <td>0</td>\n",
              "      <td>Go until jurong point, crazy.. Available only ...</td>\n",
              "    </tr>\n",
              "  </tbody>\n",
              "</table>\n",
              "</div>\n",
              "      <button class=\"colab-df-convert\" onclick=\"convertToInteractive('df-1791da3e-a10a-4479-aaef-9ebfe7a2c765')\"\n",
              "              title=\"Convert this dataframe to an interactive table.\"\n",
              "              style=\"display:none;\">\n",
              "        \n",
              "  <svg xmlns=\"http://www.w3.org/2000/svg\" height=\"24px\"viewBox=\"0 0 24 24\"\n",
              "       width=\"24px\">\n",
              "    <path d=\"M0 0h24v24H0V0z\" fill=\"none\"/>\n",
              "    <path d=\"M18.56 5.44l.94 2.06.94-2.06 2.06-.94-2.06-.94-.94-2.06-.94 2.06-2.06.94zm-11 1L8.5 8.5l.94-2.06 2.06-.94-2.06-.94L8.5 2.5l-.94 2.06-2.06.94zm10 10l.94 2.06.94-2.06 2.06-.94-2.06-.94-.94-2.06-.94 2.06-2.06.94z\"/><path d=\"M17.41 7.96l-1.37-1.37c-.4-.4-.92-.59-1.43-.59-.52 0-1.04.2-1.43.59L10.3 9.45l-7.72 7.72c-.78.78-.78 2.05 0 2.83L4 21.41c.39.39.9.59 1.41.59.51 0 1.02-.2 1.41-.59l7.78-7.78 2.81-2.81c.8-.78.8-2.07 0-2.86zM5.41 20L4 18.59l7.72-7.72 1.47 1.35L5.41 20z\"/>\n",
              "  </svg>\n",
              "      </button>\n",
              "      \n",
              "  <style>\n",
              "    .colab-df-container {\n",
              "      display:flex;\n",
              "      flex-wrap:wrap;\n",
              "      gap: 12px;\n",
              "    }\n",
              "\n",
              "    .colab-df-convert {\n",
              "      background-color: #E8F0FE;\n",
              "      border: none;\n",
              "      border-radius: 50%;\n",
              "      cursor: pointer;\n",
              "      display: none;\n",
              "      fill: #1967D2;\n",
              "      height: 32px;\n",
              "      padding: 0 0 0 0;\n",
              "      width: 32px;\n",
              "    }\n",
              "\n",
              "    .colab-df-convert:hover {\n",
              "      background-color: #E2EBFA;\n",
              "      box-shadow: 0px 1px 2px rgba(60, 64, 67, 0.3), 0px 1px 3px 1px rgba(60, 64, 67, 0.15);\n",
              "      fill: #174EA6;\n",
              "    }\n",
              "\n",
              "    [theme=dark] .colab-df-convert {\n",
              "      background-color: #3B4455;\n",
              "      fill: #D2E3FC;\n",
              "    }\n",
              "\n",
              "    [theme=dark] .colab-df-convert:hover {\n",
              "      background-color: #434B5C;\n",
              "      box-shadow: 0px 1px 3px 1px rgba(0, 0, 0, 0.15);\n",
              "      filter: drop-shadow(0px 1px 2px rgba(0, 0, 0, 0.3));\n",
              "      fill: #FFFFFF;\n",
              "    }\n",
              "  </style>\n",
              "\n",
              "      <script>\n",
              "        const buttonEl =\n",
              "          document.querySelector('#df-1791da3e-a10a-4479-aaef-9ebfe7a2c765 button.colab-df-convert');\n",
              "        buttonEl.style.display =\n",
              "          google.colab.kernel.accessAllowed ? 'block' : 'none';\n",
              "\n",
              "        async function convertToInteractive(key) {\n",
              "          const element = document.querySelector('#df-1791da3e-a10a-4479-aaef-9ebfe7a2c765');\n",
              "          const dataTable =\n",
              "            await google.colab.kernel.invokeFunction('convertToInteractive',\n",
              "                                                     [key], {});\n",
              "          if (!dataTable) return;\n",
              "\n",
              "          const docLinkHtml = 'Like what you see? Visit the ' +\n",
              "            '<a target=\"_blank\" href=https://colab.research.google.com/notebooks/data_table.ipynb>data table notebook</a>'\n",
              "            + ' to learn more about interactive tables.';\n",
              "          element.innerHTML = '';\n",
              "          dataTable['output_type'] = 'display_data';\n",
              "          await google.colab.output.renderOutput(dataTable, element);\n",
              "          const docLink = document.createElement('div');\n",
              "          docLink.innerHTML = docLinkHtml;\n",
              "          element.appendChild(docLink);\n",
              "        }\n",
              "      </script>\n",
              "    </div>\n",
              "  </div>\n",
              "  "
            ]
          },
          "metadata": {},
          "execution_count": 6
        }
      ],
      "source": [
        "# first convert label col to numeric \n",
        "df['label'] = df.label.map({'ham':0 , 'spam':1})\n",
        "df.head(1)"
      ]
    },
    {
      "cell_type": "markdown",
      "metadata": {
        "id": "ZdSpYcW5AcsY"
      },
      "source": [
        "Splitting the data into testing and training sets."
      ]
    },
    {
      "cell_type": "code",
      "execution_count": 7,
      "metadata": {
        "colab": {
          "base_uri": "https://localhost:8080/"
        },
        "execution": {
          "iopub.execute_input": "2022-05-13T21:28:29.896051Z",
          "iopub.status.busy": "2022-05-13T21:28:29.895761Z",
          "iopub.status.idle": "2022-05-13T21:28:29.906471Z",
          "shell.execute_reply": "2022-05-13T21:28:29.905601Z",
          "shell.execute_reply.started": "2022-05-13T21:28:29.896023Z"
        },
        "id": "Hp_ao2I538EL",
        "outputId": "44885eda-c626-4582-d5c6-862746bc7594",
        "trusted": true
      },
      "outputs": [
        {
          "output_type": "stream",
          "name": "stdout",
          "text": [
            "Size of training data{} 3733\n",
            "Size of Testing data{} 1839\n"
          ]
        }
      ],
      "source": [
        "# split the data \n",
        "X_train, X_test, y_train, y_test = train_test_split(df['sms'], df['label'], test_size=0.33, random_state=42)\n",
        "print('Size of training data{}',format(X_train.shape[0]))\n",
        "print('Size of Testing data{}',format(X_test.shape[0]))"
      ]
    },
    {
      "cell_type": "markdown",
      "metadata": {
        "id": "Rr_DDEmFAcsZ"
      },
      "source": [
        "Using count vectorizer to count the frequencies of each word in the training and test data."
      ]
    },
    {
      "cell_type": "code",
      "execution_count": 8,
      "metadata": {
        "execution": {
          "iopub.execute_input": "2022-05-13T21:28:30.117604Z",
          "iopub.status.busy": "2022-05-13T21:28:30.116917Z",
          "iopub.status.idle": "2022-05-13T21:28:30.262798Z",
          "shell.execute_reply": "2022-05-13T21:28:30.261877Z",
          "shell.execute_reply.started": "2022-05-13T21:28:30.117562Z"
        },
        "id": "zRI_XbG038EM",
        "trusted": true
      },
      "outputs": [],
      "source": [
        "# Convert Sms To BOW Count verctor\n",
        "count_vector = CountVectorizer()\n",
        "train_data = count_vector.fit_transform(X_train)\n",
        "testing_data = count_vector.transform(X_test)"
      ]
    },
    {
      "cell_type": "code",
      "execution_count": 9,
      "metadata": {
        "colab": {
          "base_uri": "https://localhost:8080/",
          "height": 290
        },
        "execution": {
          "iopub.execute_input": "2022-05-13T21:28:31.368808Z",
          "iopub.status.busy": "2022-05-13T21:28:31.367994Z",
          "iopub.status.idle": "2022-05-13T21:28:31.75Z",
          "shell.execute_reply": "2022-05-13T21:28:31.749325Z",
          "shell.execute_reply.started": "2022-05-13T21:28:31.368758Z"
        },
        "id": "gn2sXEVL38EN",
        "outputId": "95f1baea-40aa-4de6-8ad3-bc2f6a9c594c",
        "trusted": true
      },
      "outputs": [
        {
          "output_type": "stream",
          "name": "stderr",
          "text": [
            "/usr/local/lib/python3.8/dist-packages/sklearn/utils/deprecation.py:87: FutureWarning: Function get_feature_names is deprecated; get_feature_names is deprecated in 1.0 and will be removed in 1.2. Please use get_feature_names_out instead.\n",
            "  warnings.warn(msg, category=FutureWarning)\n"
          ]
        },
        {
          "output_type": "execute_result",
          "data": {
            "text/plain": [
              "   00  000  000pes  008704050406  0089  0121  01223585236  01223585334  \\\n",
              "0   0    0       0             0     0     0            0            0   \n",
              "1   0    0       0             0     0     0            0            0   \n",
              "2   0    0       0             0     0     0            0            0   \n",
              "3   0    0       0             0     0     0            0            0   \n",
              "4   0    0       0             0     0     0            0            0   \n",
              "\n",
              "   0125698789  02  ...  ó_  û_  û_thanks  ûªm  ûªt  ûªve  ûï  ûïharry  ûò  \\\n",
              "0           0   0  ...   0   0         0    0    0     0   0        0   0   \n",
              "1           0   0  ...   0   0         0    0    0     0   0        0   0   \n",
              "2           0   0  ...   0   0         0    0    0     0   0        0   0   \n",
              "3           0   0  ...   0   0         0    0    0     0   0        0   0   \n",
              "4           0   0  ...   0   0         0    0    0     0   0        0   0   \n",
              "\n",
              "   ûówell  \n",
              "0       0  \n",
              "1       0  \n",
              "2       0  \n",
              "3       0  \n",
              "4       0  \n",
              "\n",
              "[5 rows x 8672 columns]"
            ],
            "text/html": [
              "\n",
              "  <div id=\"df-f277872d-c62d-4c4f-acca-f0e1b9825ae9\">\n",
              "    <div class=\"colab-df-container\">\n",
              "      <div>\n",
              "<style scoped>\n",
              "    .dataframe tbody tr th:only-of-type {\n",
              "        vertical-align: middle;\n",
              "    }\n",
              "\n",
              "    .dataframe tbody tr th {\n",
              "        vertical-align: top;\n",
              "    }\n",
              "\n",
              "    .dataframe thead th {\n",
              "        text-align: right;\n",
              "    }\n",
              "</style>\n",
              "<table border=\"1\" class=\"dataframe\">\n",
              "  <thead>\n",
              "    <tr style=\"text-align: right;\">\n",
              "      <th></th>\n",
              "      <th>00</th>\n",
              "      <th>000</th>\n",
              "      <th>000pes</th>\n",
              "      <th>008704050406</th>\n",
              "      <th>0089</th>\n",
              "      <th>0121</th>\n",
              "      <th>01223585236</th>\n",
              "      <th>01223585334</th>\n",
              "      <th>0125698789</th>\n",
              "      <th>02</th>\n",
              "      <th>...</th>\n",
              "      <th>ó_</th>\n",
              "      <th>û_</th>\n",
              "      <th>û_thanks</th>\n",
              "      <th>ûªm</th>\n",
              "      <th>ûªt</th>\n",
              "      <th>ûªve</th>\n",
              "      <th>ûï</th>\n",
              "      <th>ûïharry</th>\n",
              "      <th>ûò</th>\n",
              "      <th>ûówell</th>\n",
              "    </tr>\n",
              "  </thead>\n",
              "  <tbody>\n",
              "    <tr>\n",
              "      <th>0</th>\n",
              "      <td>0</td>\n",
              "      <td>0</td>\n",
              "      <td>0</td>\n",
              "      <td>0</td>\n",
              "      <td>0</td>\n",
              "      <td>0</td>\n",
              "      <td>0</td>\n",
              "      <td>0</td>\n",
              "      <td>0</td>\n",
              "      <td>0</td>\n",
              "      <td>...</td>\n",
              "      <td>0</td>\n",
              "      <td>0</td>\n",
              "      <td>0</td>\n",
              "      <td>0</td>\n",
              "      <td>0</td>\n",
              "      <td>0</td>\n",
              "      <td>0</td>\n",
              "      <td>0</td>\n",
              "      <td>0</td>\n",
              "      <td>0</td>\n",
              "    </tr>\n",
              "    <tr>\n",
              "      <th>1</th>\n",
              "      <td>0</td>\n",
              "      <td>0</td>\n",
              "      <td>0</td>\n",
              "      <td>0</td>\n",
              "      <td>0</td>\n",
              "      <td>0</td>\n",
              "      <td>0</td>\n",
              "      <td>0</td>\n",
              "      <td>0</td>\n",
              "      <td>0</td>\n",
              "      <td>...</td>\n",
              "      <td>0</td>\n",
              "      <td>0</td>\n",
              "      <td>0</td>\n",
              "      <td>0</td>\n",
              "      <td>0</td>\n",
              "      <td>0</td>\n",
              "      <td>0</td>\n",
              "      <td>0</td>\n",
              "      <td>0</td>\n",
              "      <td>0</td>\n",
              "    </tr>\n",
              "    <tr>\n",
              "      <th>2</th>\n",
              "      <td>0</td>\n",
              "      <td>0</td>\n",
              "      <td>0</td>\n",
              "      <td>0</td>\n",
              "      <td>0</td>\n",
              "      <td>0</td>\n",
              "      <td>0</td>\n",
              "      <td>0</td>\n",
              "      <td>0</td>\n",
              "      <td>0</td>\n",
              "      <td>...</td>\n",
              "      <td>0</td>\n",
              "      <td>0</td>\n",
              "      <td>0</td>\n",
              "      <td>0</td>\n",
              "      <td>0</td>\n",
              "      <td>0</td>\n",
              "      <td>0</td>\n",
              "      <td>0</td>\n",
              "      <td>0</td>\n",
              "      <td>0</td>\n",
              "    </tr>\n",
              "    <tr>\n",
              "      <th>3</th>\n",
              "      <td>0</td>\n",
              "      <td>0</td>\n",
              "      <td>0</td>\n",
              "      <td>0</td>\n",
              "      <td>0</td>\n",
              "      <td>0</td>\n",
              "      <td>0</td>\n",
              "      <td>0</td>\n",
              "      <td>0</td>\n",
              "      <td>0</td>\n",
              "      <td>...</td>\n",
              "      <td>0</td>\n",
              "      <td>0</td>\n",
              "      <td>0</td>\n",
              "      <td>0</td>\n",
              "      <td>0</td>\n",
              "      <td>0</td>\n",
              "      <td>0</td>\n",
              "      <td>0</td>\n",
              "      <td>0</td>\n",
              "      <td>0</td>\n",
              "    </tr>\n",
              "    <tr>\n",
              "      <th>4</th>\n",
              "      <td>0</td>\n",
              "      <td>0</td>\n",
              "      <td>0</td>\n",
              "      <td>0</td>\n",
              "      <td>0</td>\n",
              "      <td>0</td>\n",
              "      <td>0</td>\n",
              "      <td>0</td>\n",
              "      <td>0</td>\n",
              "      <td>0</td>\n",
              "      <td>...</td>\n",
              "      <td>0</td>\n",
              "      <td>0</td>\n",
              "      <td>0</td>\n",
              "      <td>0</td>\n",
              "      <td>0</td>\n",
              "      <td>0</td>\n",
              "      <td>0</td>\n",
              "      <td>0</td>\n",
              "      <td>0</td>\n",
              "      <td>0</td>\n",
              "    </tr>\n",
              "  </tbody>\n",
              "</table>\n",
              "<p>5 rows × 8672 columns</p>\n",
              "</div>\n",
              "      <button class=\"colab-df-convert\" onclick=\"convertToInteractive('df-f277872d-c62d-4c4f-acca-f0e1b9825ae9')\"\n",
              "              title=\"Convert this dataframe to an interactive table.\"\n",
              "              style=\"display:none;\">\n",
              "        \n",
              "  <svg xmlns=\"http://www.w3.org/2000/svg\" height=\"24px\"viewBox=\"0 0 24 24\"\n",
              "       width=\"24px\">\n",
              "    <path d=\"M0 0h24v24H0V0z\" fill=\"none\"/>\n",
              "    <path d=\"M18.56 5.44l.94 2.06.94-2.06 2.06-.94-2.06-.94-.94-2.06-.94 2.06-2.06.94zm-11 1L8.5 8.5l.94-2.06 2.06-.94-2.06-.94L8.5 2.5l-.94 2.06-2.06.94zm10 10l.94 2.06.94-2.06 2.06-.94-2.06-.94-.94-2.06-.94 2.06-2.06.94z\"/><path d=\"M17.41 7.96l-1.37-1.37c-.4-.4-.92-.59-1.43-.59-.52 0-1.04.2-1.43.59L10.3 9.45l-7.72 7.72c-.78.78-.78 2.05 0 2.83L4 21.41c.39.39.9.59 1.41.59.51 0 1.02-.2 1.41-.59l7.78-7.78 2.81-2.81c.8-.78.8-2.07 0-2.86zM5.41 20L4 18.59l7.72-7.72 1.47 1.35L5.41 20z\"/>\n",
              "  </svg>\n",
              "      </button>\n",
              "      \n",
              "  <style>\n",
              "    .colab-df-container {\n",
              "      display:flex;\n",
              "      flex-wrap:wrap;\n",
              "      gap: 12px;\n",
              "    }\n",
              "\n",
              "    .colab-df-convert {\n",
              "      background-color: #E8F0FE;\n",
              "      border: none;\n",
              "      border-radius: 50%;\n",
              "      cursor: pointer;\n",
              "      display: none;\n",
              "      fill: #1967D2;\n",
              "      height: 32px;\n",
              "      padding: 0 0 0 0;\n",
              "      width: 32px;\n",
              "    }\n",
              "\n",
              "    .colab-df-convert:hover {\n",
              "      background-color: #E2EBFA;\n",
              "      box-shadow: 0px 1px 2px rgba(60, 64, 67, 0.3), 0px 1px 3px 1px rgba(60, 64, 67, 0.15);\n",
              "      fill: #174EA6;\n",
              "    }\n",
              "\n",
              "    [theme=dark] .colab-df-convert {\n",
              "      background-color: #3B4455;\n",
              "      fill: #D2E3FC;\n",
              "    }\n",
              "\n",
              "    [theme=dark] .colab-df-convert:hover {\n",
              "      background-color: #434B5C;\n",
              "      box-shadow: 0px 1px 3px 1px rgba(0, 0, 0, 0.15);\n",
              "      filter: drop-shadow(0px 1px 2px rgba(0, 0, 0, 0.3));\n",
              "      fill: #FFFFFF;\n",
              "    }\n",
              "  </style>\n",
              "\n",
              "      <script>\n",
              "        const buttonEl =\n",
              "          document.querySelector('#df-f277872d-c62d-4c4f-acca-f0e1b9825ae9 button.colab-df-convert');\n",
              "        buttonEl.style.display =\n",
              "          google.colab.kernel.accessAllowed ? 'block' : 'none';\n",
              "\n",
              "        async function convertToInteractive(key) {\n",
              "          const element = document.querySelector('#df-f277872d-c62d-4c4f-acca-f0e1b9825ae9');\n",
              "          const dataTable =\n",
              "            await google.colab.kernel.invokeFunction('convertToInteractive',\n",
              "                                                     [key], {});\n",
              "          if (!dataTable) return;\n",
              "\n",
              "          const docLinkHtml = 'Like what you see? Visit the ' +\n",
              "            '<a target=\"_blank\" href=https://colab.research.google.com/notebooks/data_table.ipynb>data table notebook</a>'\n",
              "            + ' to learn more about interactive tables.';\n",
              "          element.innerHTML = '';\n",
              "          dataTable['output_type'] = 'display_data';\n",
              "          await google.colab.output.renderOutput(dataTable, element);\n",
              "          const docLink = document.createElement('div');\n",
              "          docLink.innerHTML = docLinkHtml;\n",
              "          element.appendChild(docLink);\n",
              "        }\n",
              "      </script>\n",
              "    </div>\n",
              "  </div>\n",
              "  "
            ]
          },
          "metadata": {},
          "execution_count": 9
        }
      ],
      "source": [
        "# BOW(Bag Of Word) Look Like This \n",
        "# convert text to numbers for ML \n",
        "count_vector = CountVectorizer()\n",
        "col_name = count_vector.fit(df['sms']).get_feature_names()\n",
        "data = count_vector.transform(list(df['sms'])).toarray()\n",
        "BOW = pd.DataFrame(data, columns= col_name)\n",
        "BOW.head()"
      ]
    },
    {
      "cell_type": "markdown",
      "metadata": {
        "id": "gcb32qBcAcsb"
      },
      "source": [
        "Creating a Naive Bayes Classifier."
      ]
    },
    {
      "cell_type": "code",
      "execution_count": 10,
      "metadata": {
        "colab": {
          "base_uri": "https://localhost:8080/"
        },
        "execution": {
          "iopub.execute_input": "2022-05-13T21:28:32.995386Z",
          "iopub.status.busy": "2022-05-13T21:28:32.995051Z",
          "iopub.status.idle": "2022-05-13T21:28:33.005994Z",
          "shell.execute_reply": "2022-05-13T21:28:33.00536Z",
          "shell.execute_reply.started": "2022-05-13T21:28:32.995349Z"
        },
        "id": "Bds5zmXr38EQ",
        "outputId": "02d40eff-ff1b-43c3-f5b8-4fdaf14d7562",
        "trusted": true
      },
      "outputs": [
        {
          "output_type": "execute_result",
          "data": {
            "text/plain": [
              "MultinomialNB()"
            ]
          },
          "metadata": {},
          "execution_count": 10
        }
      ],
      "source": [
        "naive_bayes = MultinomialNB()\n",
        "naive_bayes.fit(train_data , y_train)"
      ]
    },
    {
      "cell_type": "markdown",
      "metadata": {
        "id": "6bUaJ7i5Acsb"
      },
      "source": [
        "Training the Naive Bayes Classifier with the testing data."
      ]
    },
    {
      "cell_type": "code",
      "execution_count": 11,
      "metadata": {
        "execution": {
          "iopub.execute_input": "2022-05-13T21:28:33.839462Z",
          "iopub.status.busy": "2022-05-13T21:28:33.838591Z",
          "iopub.status.idle": "2022-05-13T21:28:33.84512Z",
          "shell.execute_reply": "2022-05-13T21:28:33.844147Z",
          "shell.execute_reply.started": "2022-05-13T21:28:33.839411Z"
        },
        "id": "yp-qY5vm38EQ",
        "trusted": true
      },
      "outputs": [],
      "source": [
        "predection = naive_bayes.predict(testing_data)"
      ]
    },
    {
      "cell_type": "markdown",
      "metadata": {
        "id": "1mvsvV2T38EQ"
      },
      "source": [
        "Model Evaluation"
      ]
    },
    {
      "cell_type": "code",
      "execution_count": 12,
      "metadata": {
        "colab": {
          "base_uri": "https://localhost:8080/"
        },
        "execution": {
          "iopub.execute_input": "2022-05-13T21:28:34.510837Z",
          "iopub.status.busy": "2022-05-13T21:28:34.510482Z",
          "iopub.status.idle": "2022-05-13T21:28:34.525652Z",
          "shell.execute_reply": "2022-05-13T21:28:34.525016Z",
          "shell.execute_reply.started": "2022-05-13T21:28:34.510803Z"
        },
        "id": "XcNHBxUi38ES",
        "outputId": "41edfeb2-8610-4573-985a-3bbec9b98e62",
        "trusted": true
      },
      "outputs": [
        {
          "output_type": "stream",
          "name": "stdout",
          "text": [
            "Accuracy score: 0.9825992387166939\n",
            "precision_score: 0.9741379310344828\n",
            "recall_score: 0.8968253968253969\n",
            "f1_score: 0.9338842975206612\n"
          ]
        }
      ],
      "source": [
        "print('Accuracy score: {}'.format(accuracy_score(y_test, predection)))\n",
        "print('precision_score: {}'.format(precision_score(y_test, predection)))\n",
        "print('recall_score: {}'.format(recall_score(y_test, predection)))\n",
        "print('f1_score: {}'.format(f1_score(y_test, predection)))"
      ]
    },
    {
      "cell_type": "markdown",
      "metadata": {
        "id": "MjWByjSuAcsd"
      },
      "source": [
        "CART Classifier"
      ]
    },
    {
      "cell_type": "code",
      "execution_count": 13,
      "metadata": {
        "id": "oeOnx_RBAcsd"
      },
      "outputs": [],
      "source": [
        "from sklearn.tree import DecisionTreeClassifier"
      ]
    },
    {
      "cell_type": "code",
      "execution_count": 14,
      "metadata": {
        "colab": {
          "base_uri": "https://localhost:8080/"
        },
        "id": "y-OxVw-pAcse",
        "outputId": "2878c6fe-c946-4df3-c320-a410a7464ed1"
      },
      "outputs": [
        {
          "output_type": "execute_result",
          "data": {
            "text/plain": [
              "DecisionTreeClassifier()"
            ]
          },
          "metadata": {},
          "execution_count": 14
        }
      ],
      "source": [
        "cart = DecisionTreeClassifier()\n",
        "cart.fit(train_data, y_train)\n"
      ]
    },
    {
      "cell_type": "code",
      "source": [
        "cart_prediction = cart.predict(testing_data)\n"
      ],
      "metadata": {
        "id": "J5FlRHvXAxrx"
      },
      "execution_count": 15,
      "outputs": []
    },
    {
      "cell_type": "code",
      "source": [
        "print('Accuracy score: {}'.format(accuracy_score(y_test, cart_prediction)))\n",
        "print('precision_score: {}'.format(precision_score(y_test, cart_prediction)))\n",
        "print('recall_score: {}'.format(recall_score(y_test, cart_prediction)))\n",
        "print('f1_score: {}'.format(f1_score(y_test, cart_prediction)))"
      ],
      "metadata": {
        "colab": {
          "base_uri": "https://localhost:8080/"
        },
        "id": "LFI2wQQUAyy0",
        "outputId": "d1dabc73-8432-4625-bbd7-ad53c4122961"
      },
      "execution_count": 16,
      "outputs": [
        {
          "output_type": "stream",
          "name": "stdout",
          "text": [
            "Accuracy score: 0.9635671560630777\n",
            "precision_score: 0.8744939271255061\n",
            "recall_score: 0.8571428571428571\n",
            "f1_score: 0.8657314629258518\n"
          ]
        }
      ]
    },
    {
      "cell_type": "markdown",
      "source": [
        "Random Forest"
      ],
      "metadata": {
        "id": "StfZpKr4A41e"
      }
    },
    {
      "cell_type": "code",
      "source": [
        "\n",
        "from sklearn.ensemble import RandomForestClassifier\n"
      ],
      "metadata": {
        "id": "r0GHTYu_A2PS"
      },
      "execution_count": 17,
      "outputs": []
    },
    {
      "cell_type": "code",
      "source": [
        "rf = RandomForestClassifier()\n"
      ],
      "metadata": {
        "id": "9UTqYwatA7ou"
      },
      "execution_count": 18,
      "outputs": []
    },
    {
      "cell_type": "code",
      "source": [
        "rf.fit(train_data, y_train)"
      ],
      "metadata": {
        "colab": {
          "base_uri": "https://localhost:8080/"
        },
        "id": "akZZ9mWlA-iV",
        "outputId": "a912762a-8c91-48af-d6e5-5aaa0d1f155e"
      },
      "execution_count": 19,
      "outputs": [
        {
          "output_type": "execute_result",
          "data": {
            "text/plain": [
              "RandomForestClassifier()"
            ]
          },
          "metadata": {},
          "execution_count": 19
        }
      ]
    },
    {
      "cell_type": "code",
      "source": [
        "\n",
        "rf_prediction = rf.predict(testing_data)"
      ],
      "metadata": {
        "id": "M6VFlsFmBA94"
      },
      "execution_count": 20,
      "outputs": []
    },
    {
      "cell_type": "code",
      "source": [
        "print('Accuracy score: {}'.format(accuracy_score(y_test, rf_prediction)))\n",
        "print('precision_score: {}'.format(precision_score(y_test, rf_prediction)))\n",
        "print('recall_score: {}'.format(recall_score(y_test, rf_prediction)))\n",
        "print('f1_score: {}'.format(f1_score(y_test, rf_prediction)))\n"
      ],
      "metadata": {
        "colab": {
          "base_uri": "https://localhost:8080/"
        },
        "id": "7QV8dPQEBDJl",
        "outputId": "9d364834-fafa-4536-b640-9590adffea03"
      },
      "execution_count": 21,
      "outputs": [
        {
          "output_type": "stream",
          "name": "stdout",
          "text": [
            "Accuracy score: 0.9749864056552474\n",
            "precision_score: 1.0\n",
            "recall_score: 0.8174603174603174\n",
            "f1_score: 0.8995633187772926\n"
          ]
        }
      ]
    },
    {
      "cell_type": "markdown",
      "source": [
        "# Conclusion\n",
        "Implemented 3 models for Email Spam Classification namely; Naive Bayes, Decision Tree (CART) and Random Forest.\n",
        "We can clearly see that the Naive Bayes classifier performs the best out of all three, having the highest scores in all 4 metrics present.\n",
        "We have used a Multinomial Naive Bayes classifier as it works best for discrete features, which in our case is the word count."
      ],
      "metadata": {
        "id": "xvM1AMjGBKDG"
      }
    },
    {
      "cell_type": "code",
      "source": [],
      "metadata": {
        "id": "b7wkJcuSBFdo"
      },
      "execution_count": null,
      "outputs": []
    }
  ],
  "metadata": {
    "colab": {
      "provenance": []
    },
    "kernelspec": {
      "display_name": "Python 3.9.4 64-bit",
      "language": "python",
      "name": "python3"
    },
    "language_info": {
      "codemirror_mode": {
        "name": "ipython",
        "version": 3
      },
      "file_extension": ".py",
      "mimetype": "text/x-python",
      "name": "python",
      "nbconvert_exporter": "python",
      "pygments_lexer": "ipython3",
      "version": "3.9.4"
    },
    "vscode": {
      "interpreter": {
        "hash": "e363c22ce2793a8915f075e99d75f22c75a30f1aee5699f18e5d8966ab1adaba"
      }
    }
  },
  "nbformat": 4,
  "nbformat_minor": 0
}